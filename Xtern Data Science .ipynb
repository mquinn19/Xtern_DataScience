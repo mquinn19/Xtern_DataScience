{
 "cells": [
  {
   "cell_type": "markdown",
   "metadata": {},
   "source": [
    "# Data Analysis\n",
    "*By: McKenzie Quinn*\n",
    "\n",
    "Based on the data proviede there is a variety of information that can be drawn. That informatiation includes locations where all users use OSXtern, the frequence of use, peak times of the applciations use, and locations of specific user use."
   ]
  },
  {
   "cell_type": "code",
   "execution_count": 11,
   "metadata": {},
   "outputs": [
    {
     "data": {
      "image/png": "[encoded data removed]",
      "text/plain": [
       "<matplotlib.figure.Figure at 0x1060e49e8>"
      ]
     },
     "metadata": {},
     "output_type": "display_data"
    }
   ],
   "source": [
    "import csv\n",
    "import numpy as np\n",
    "import matplotlib.pyplot as plt\n",
    "dataset = open ('checkin_dataset.csv')\n",
    "csv_dataset = csv.reader(dataset)\n",
    "\n",
    "x = []\n",
    "y = []\n",
    "for i in csv_dataset:\n",
    "    x.append(i[3])\n",
    "    y.append(i[4])\n",
    "x.remove('xcoordinate')\n",
    "y.remove('ycoordinate')\n",
    "\n",
    "x = [float(i) for i in x]\n",
    "y = [float(i) for i in y]\n",
    "plt.scatter(x,y, color = 'blue')\n",
    "plt.xlabel('x')\n",
    "plt.ylabel('y')\n",
    "plt.title('All User Coordinates')\n",
    "plt.grid(True)\n",
    "plt.show()\n",
    "\n"
   ]
  },
  {
   "cell_type": "markdown",
   "metadata": {},
   "source": [
    "From all the data given from the 100 users, we can se from the graph above that OSXtern is being used in location hubs. Either the same user is using it multiple times in the same area, or multiple users are using it at multiple times in the same area. Regardless, these clusters represent an area where the app is in frequent use. We can then scale the graph accordingly, set it at the approriate origin and overlay the scatter plot above with a city map to determine the specific locations.  These finding could help in marketing OSXtern to others who could benefit from using OSXtern and stay linked to the Indy tech community."
   ]
  },
  {
   "cell_type": "markdown",
   "metadata": {
    "collapsed": true
   },
   "source": [
    "Due to some problems in using R in jupyter, I copied the code I did in Rstudio which is what is below, along with its output.\n",
    "\n",
    "> checkin_dataset <- read_csv(\"~/Downloads/checkin_dataset.csv\")\n",
    "Parsed with column specification:\n",
    "cols(\n",
    "  X1 = col_integer(),\n",
    "  user = col_integer(),\n",
    "  timestamp = col_datetime(format = \"\"),\n",
    "  xcoordinate = col_double(),\n",
    "  ycoordinate = col_double()\n",
    ")\n",
    "Warning message:\n",
    "Missing column names filled in: 'X1' [1] \n",
    "> View(checkin_dataset)\n",
    "\n",
    "> table(checkin_dataset$user)\n",
    "\n",
    "![title](R_output.png)\n",
    "\n"
   ]
  },
  {
   "cell_type": "markdown",
   "metadata": {
    "collapsed": true
   },
   "source": [
    "From the code ran in R, we can see the frequency a user used OSXtern. The app was used atleast 87 times by a given user and at most 1199 times. Since there is such a range in uses, I plan to look closely at User 0 and User 48."
   ]
  },
  {
   "cell_type": "code",
   "execution_count": 6,
   "metadata": {},
   "outputs": [
    {
     "data": {
      "image/png": "[encoded data removed]",
      "text/plain": [
       "<matplotlib.figure.Figure at 0x111c88eb8>"
      ]
     },
     "metadata": {},
     "output_type": "display_data"
    }
   ],
   "source": [
    "import csv\n",
    "import numpy as np\n",
    "import matplotlib.pyplot as plt\n",
    "dataset = open ('checkin_dataset.csv')\n",
    "csv_dataset = csv.reader(dataset)\n",
    "\n",
    "user0_x = []\n",
    "user0_y = []\n",
    "user48_x = []\n",
    "user48_y = []\n",
    "for i in csv_dataset:\n",
    "    if i[1] == '0':\n",
    "        user0_x.append(i[3])\n",
    "        user0_y.append(i[4])\n",
    "    elif i[1] == '48':\n",
    "        user48_x.append(i[3])\n",
    "        user48_y.append(i[4])\n",
    "    \n",
    "user0_x = [float(i) for i in user0_x]\n",
    "user0_y = [float(i) for i in user0_y]\n",
    "user48_x = [float(i) for i in user48_x]\n",
    "user48_y = [float(i) for i in user48_y]\n",
    "\n",
    "plt.scatter(user0_x, user0_y, c='b', marker=\"s\", label='user 0')\n",
    "plt.scatter(user48_x,user48_y, c='r', marker=\"o\", label='user 48')\n",
    "plt.legend(loc='upper left');\n",
    "plt.xlabel('x')\n",
    "plt.ylabel('y')\n",
    "plt.title('User 0 and User 48 Coordinates')\n",
    "plt.grid(True)\n",
    "plt.show()\n",
    "\n",
    "\n"
   ]
  },
  {
   "cell_type": "markdown",
   "metadata": {},
   "source": [
    "Based on the graph above, we can see where user 0 and user 48 overlap in location of their OSXtern app usage. If we had to select smaller area to advertise to, I would recommend the areas where user 0 and 48 overlap since user 48 had the smallest amount of uses, it is more likely that those with more usage also spend time at those locations."
   ]
  },
  {
   "cell_type": "code",
   "execution_count": 109,
   "metadata": {
    "scrolled": true
   },
   "outputs": [
    {
     "name": "stdout",
     "output_type": "stream",
     "text": [
      "     |12:00am -5:59am|  6:00am-11:59am| 12:00pm-5:59pm|6:00pm-11:59pm|     Total|\n",
      "--------------------------------------------------------------------------------\n",
      "May  |      1968     |      2068      |      2094     |      2182    |      8312|\n",
      "June |      2320     |      1973      |      2064     |      2130    |      8487|\n",
      "July |      2281     |      2428      |      2118     |      2042    |      8869|\n",
      "--------------------------------------------------------------------------------\n",
      "Total|      6569     |      6469      |      6276     |      6354    |     25669|\n"
     ]
    }
   ],
   "source": [
    "import csv\n",
    "import numpy as np\n",
    "import matplotlib.pyplot as plt\n",
    "dataset = open ('checkin_dataset.csv')\n",
    "csv_dataset = csv.reader(dataset)\n",
    "\n",
    "may_usage = 0\n",
    "may_earlymorning = 0\n",
    "may_morning = 0\n",
    "may_afternoon = 0\n",
    "may_evening = 0\n",
    "\n",
    "june_usage = 0\n",
    "june_earlymorning = 0\n",
    "june_morning = 0\n",
    "june_afternoon = 0\n",
    "june_evening = 0\n",
    "\n",
    "july_usage = 0\n",
    "july_earlymorning = 0\n",
    "july_morning = 0\n",
    "july_afternoon = 0\n",
    "july_evening = 0\n",
    "\n",
    "total = 0\n",
    "#for i in csv_dataset:\n",
    "  #  print(i)\n",
    "for i in csv_dataset:\n",
    "    total += 1\n",
    "    if i[2][6] == '5':\n",
    "        may_usage += 1\n",
    "        if i[2][11] == '0' and i[2][12] <= '5':\n",
    "            may_earlymorning +=1\n",
    "        elif (i[2][11] =='0' and i[2][12] >= '6') or (i[2][11] =='1' and i[2][12] <= '1'):\n",
    "            may_morning += 1\n",
    "        elif i[2][11] =='1' and (i[2][12] >= '2' and i[2][12] <= '7'):\n",
    "            may_afternoon += 1\n",
    "        elif (i[2][11] =='1' or i[2][11] =='2' ) and (i[2][12] >= '8' or i[2][12] <='3'):\n",
    "            may_evening += 1\n",
    "            \n",
    "    elif i[2][6] == '6':\n",
    "        june_usage +=1\n",
    "        if i[2][11] == '0' and i[2][12] <= '5':\n",
    "            june_earlymorning +=1\n",
    "        elif (i[2][11] =='0' and i[2][12] >= '6') or (i[2][11] =='1' and i[2][12] <= '1'):\n",
    "            june_morning += 1\n",
    "        elif i[2][11] =='1' and (i[2][12] >= '2' and i[2][12] <= '7'):\n",
    "            june_afternoon += 1\n",
    "        elif (i[2][11] =='1' or i[2][11] =='2' ) and (i[2][12] >= '8' or i[2][12] <='3'):\n",
    "            june_evening += 1\n",
    "    elif i[2][6] == '7':\n",
    "        july_usage +=1\n",
    "        if i[2][11] == '0' and i[2][12] <= '5':\n",
    "            july_earlymorning +=1\n",
    "        elif (i[2][11] =='0' and i[2][12] >= '6') or (i[2][11] =='1' and i[2][12] <= '1'):\n",
    "            july_morning += 1\n",
    "        elif i[2][11] =='1' and (i[2][12] >= '2' and i[2][12] <= '7'):\n",
    "            july_afternoon += 1\n",
    "        elif (i[2][11] =='1' or i[2][11] =='2' ) and (i[2][12] >= '8' or i[2][12] <='3'):\n",
    "            july_evening += 1\n",
    "\n",
    "earlymorning = may_earlymorning + june_earlymorning + july_earlymorning\n",
    "morning = may_morning + june_morning + july_morning \n",
    "afternoon = may_afternoon +june_afternoon + july_afternoon\n",
    "evening = may_evening + june_evening + july_evening\n",
    "\n",
    "print('{:5}{:10} {:10} {:15}{:20}{}'.format('','|12:00am -5:59am|', ' 6:00am-11:59am|', '12:00pm-5:59pm|','6:00pm-11:59pm|','Total|'))\n",
    "print ('-'*80)\n",
    "print('{:5}{:10}{:1}{:10}{:1}{:10}{:1}{:10}{:1}{:10}{:1}'.format('May  |', may_earlymorning,'     |', may_morning, '      |', may_afternoon,'     |', may_evening,'    |', may_usage, '|'))\n",
    "print('{:5}{:10}{:1}{:10}{:1}{:10}{:1}{:10}{:1}{:10}{:1}'.format('June |', june_earlymorning,'     |', june_morning,'      |', june_afternoon, '     |', june_evening ,'    |', june_usage, '|'))\n",
    "print('{:5}{:10}{:1}{:10}{:1}{:10}{:1}{:10}{:1}{:10}{:1}'.format('July |', july_earlymorning, '     |', july_morning, '      |', july_afternoon, '     |', july_evening, '    |', july_usage, '|'))\n",
    "print ('-'*80)\n",
    "print('{:5}{:10}{:1}{:10}{:1}{:10}{:1}{:10}{:1}{:10}{:1}'.format('Total|', earlymorning , '     |', morning, '      |',afternoon,  '     |',evening ,'    |', total,'|'))\n",
    "\n"
   ]
  },
  {
   "cell_type": "markdown",
   "metadata": {},
   "source": [
    "Based on the table provided above, we can see the frequency of OSXtern's use during the months in use throughout the day. "
   ]
  },
  {
   "cell_type": "code",
   "execution_count": 118,
   "metadata": {},
   "outputs": [
    {
     "data": {
      "image/png": "[encoded data removed]",
      "text/plain": [
       "<matplotlib.figure.Figure at 0x11b5f5cf8>"
      ]
     },
     "metadata": {},
     "output_type": "display_data"
    }
   ],
   "source": [
    "n_groups = 4\n",
    "may_timedist= (may_earlymorning, may_morning, may_afternoon, may_evening)\n",
    "june_timedist = (june_earlymorning, june_morning, june_afternoon, june_evening)\n",
    "july_timedist = (july_earlymorning, july_morning, july_afternoon, july_evening)\n",
    "\n",
    "plt.subplots()\n",
    "index = np.arange(n_groups)\n",
    "bar_width = 0.2\n",
    "opacity = 0.8\n",
    " \n",
    "rects1 = plt.bar(index, may_timedist, bar_width,\n",
    "                 alpha=opacity,\n",
    "                 color='b',\n",
    "                 label='May')\n",
    " \n",
    "rects2 = plt.bar(index + bar_width , june_timedist, bar_width,\n",
    "                 alpha=opacity,\n",
    "                 color='g',\n",
    "                 label='June')\n",
    "\n",
    "rects3 = plt.bar(index + bar_width+bar_width, july_timedist, bar_width,\n",
    "                 alpha=opacity,\n",
    "                 color='r',\n",
    "                 label='July')\n",
    " \n",
    "plt.xlabel('Time')\n",
    "plt.ylabel('Frequency')\n",
    "plt.title('Frequency of Use')\n",
    "plt.xticks(index + bar_width, ('12-5:59am', '6-11:59am', '12-5:59pm', '6-11:59pm'))\n",
    "plt.legend()\n",
    " \n",
    "plt.tight_layout()\n",
    "plt.show()"
   ]
  },
  {
   "cell_type": "markdown",
   "metadata": {},
   "source": [
    "Even though the table above has the same information as the bar graph above, the bar graph is easlier to look at and it provides a clearer distinction of the amount of use at a given time for each month.  For example, between the times of 6 and 11:59 a.m, there was a higher amount of app activity in July compared to May and June.  This could be becasue July is when the summer is coming to a close and the OSXtern users want to ensure they have access to their contacts in the Tech scene prior to their program ending and/or going back to school. "
   ]
  },
  {
   "cell_type": "markdown",
   "metadata": {},
   "source": [
    "Based the information given, it is clear that there are many locations that have given a user a reason to use OSXtern. From a marketing standpoint, it would be best to advertise the app or TechPoint in those areas becuase it can trigger a user to use the app or entice someone in the Tech world to look into TechPoint. From the frequency of use data, there may be something particualr about a given month or time that would cause a TechPoint Talent member to use the app.  This could be becasue of a new friend made, a networking event or some other reason. "
   ]
  },
  {
   "cell_type": "code",
   "execution_count": null,
   "metadata": {
    "collapsed": true
   },
   "outputs": [],
   "source": []
  }
 ],
 "metadata": {
  "kernelspec": {
   "display_name": "Python 3",
   "language": "python",
   "name": "python3"
  },
  "language_info": {
   "codemirror_mode": {
    "name": "ipython",
    "version": 3
   },
   "file_extension": ".py",
   "mimetype": "text/x-python",
   "name": "python",
   "nbconvert_exporter": "python",
   "pygments_lexer": "ipython3",
   "version": "3.6.2"
  }
 },
 "nbformat": 4,
 "nbformat_minor": 2
}
